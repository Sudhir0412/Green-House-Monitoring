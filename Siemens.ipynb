{
 "cells": [
  {
   "cell_type": "code",
   "execution_count": 473,
   "id": "c92c2fa2",
   "metadata": {},
   "outputs": [],
   "source": [
    "#Import packages\n",
    "import numpy as np\n",
    "import pandas as pd\n",
    "from sklearn.model_selection import train_test_split\n",
    "import matplotlib.pyplot as plt\n",
    "import seaborn as sns\n",
    "from sklearn.ensemble import RandomForestClassifier\n",
    "import warnings\n",
    "warnings.filterwarnings('ignore')\n"
   ]
  },
  {
   "cell_type": "code",
   "execution_count": 474,
   "id": "bbf16369",
   "metadata": {},
   "outputs": [],
   "source": [
    "df_train=pd.read_csv(r\"E:\\Siemens_test\\dataset\\train.csv\") #Load Dataset"
   ]
  },
  {
   "cell_type": "markdown",
   "id": "0e6000c9",
   "metadata": {},
   "source": [
    "# Basic data analysis"
   ]
  },
  {
   "cell_type": "code",
   "execution_count": 475,
   "id": "688d2945",
   "metadata": {},
   "outputs": [
    {
     "data": {
      "text/html": [
       "<div>\n",
       "<style scoped>\n",
       "    .dataframe tbody tr th:only-of-type {\n",
       "        vertical-align: middle;\n",
       "    }\n",
       "\n",
       "    .dataframe tbody tr th {\n",
       "        vertical-align: top;\n",
       "    }\n",
       "\n",
       "    .dataframe thead th {\n",
       "        text-align: right;\n",
       "    }\n",
       "</style>\n",
       "<table border=\"1\" class=\"dataframe\">\n",
       "  <thead>\n",
       "    <tr style=\"text-align: right;\">\n",
       "      <th></th>\n",
       "      <th>date_time</th>\n",
       "      <th>temp</th>\n",
       "      <th>humidity</th>\n",
       "      <th>light</th>\n",
       "      <th>co2</th>\n",
       "      <th>humidity_ratio</th>\n",
       "      <th>suitable</th>\n",
       "    </tr>\n",
       "  </thead>\n",
       "  <tbody>\n",
       "    <tr>\n",
       "      <th>0</th>\n",
       "      <td>2015-02-02 14:19:00</td>\n",
       "      <td>23.7000</td>\n",
       "      <td>26.272</td>\n",
       "      <td>585.200000</td>\n",
       "      <td>749.200000</td>\n",
       "      <td>0.004764</td>\n",
       "      <td>1</td>\n",
       "    </tr>\n",
       "    <tr>\n",
       "      <th>1</th>\n",
       "      <td>2015-02-02 14:19:59</td>\n",
       "      <td>23.7180</td>\n",
       "      <td>26.290</td>\n",
       "      <td>578.400000</td>\n",
       "      <td>760.400000</td>\n",
       "      <td>0.004773</td>\n",
       "      <td>1</td>\n",
       "    </tr>\n",
       "    <tr>\n",
       "      <th>2</th>\n",
       "      <td>2015-02-02 14:21:00</td>\n",
       "      <td>23.7300</td>\n",
       "      <td>26.230</td>\n",
       "      <td>572.666667</td>\n",
       "      <td>769.666667</td>\n",
       "      <td>0.004765</td>\n",
       "      <td>1</td>\n",
       "    </tr>\n",
       "    <tr>\n",
       "      <th>3</th>\n",
       "      <td>2015-02-02 14:22:00</td>\n",
       "      <td>23.7225</td>\n",
       "      <td>26.125</td>\n",
       "      <td>493.750000</td>\n",
       "      <td>774.750000</td>\n",
       "      <td>0.004744</td>\n",
       "      <td>1</td>\n",
       "    </tr>\n",
       "    <tr>\n",
       "      <th>4</th>\n",
       "      <td>2015-02-02 14:23:00</td>\n",
       "      <td>23.7540</td>\n",
       "      <td>26.200</td>\n",
       "      <td>488.600000</td>\n",
       "      <td>779.000000</td>\n",
       "      <td>0.004767</td>\n",
       "      <td>1</td>\n",
       "    </tr>\n",
       "  </tbody>\n",
       "</table>\n",
       "</div>"
      ],
      "text/plain": [
       "             date_time     temp  humidity       light         co2  \\\n",
       "0  2015-02-02 14:19:00  23.7000    26.272  585.200000  749.200000   \n",
       "1  2015-02-02 14:19:59  23.7180    26.290  578.400000  760.400000   \n",
       "2  2015-02-02 14:21:00  23.7300    26.230  572.666667  769.666667   \n",
       "3  2015-02-02 14:22:00  23.7225    26.125  493.750000  774.750000   \n",
       "4  2015-02-02 14:23:00  23.7540    26.200  488.600000  779.000000   \n",
       "\n",
       "   humidity_ratio  suitable  \n",
       "0        0.004764         1  \n",
       "1        0.004773         1  \n",
       "2        0.004765         1  \n",
       "3        0.004744         1  \n",
       "4        0.004767         1  "
      ]
     },
     "execution_count": 475,
     "metadata": {},
     "output_type": "execute_result"
    }
   ],
   "source": [
    "df_train.head()"
   ]
  },
  {
   "cell_type": "code",
   "execution_count": 476,
   "id": "48ce1e26",
   "metadata": {},
   "outputs": [
    {
     "data": {
      "text/plain": [
       "(15080, 7)"
      ]
     },
     "execution_count": 476,
     "metadata": {},
     "output_type": "execute_result"
    }
   ],
   "source": [
    "df_train.shape"
   ]
  },
  {
   "cell_type": "markdown",
   "id": "eb0860cd",
   "metadata": {},
   "source": [
    "We have 15080 Ros & 7 Columns including Target variable"
   ]
  },
  {
   "cell_type": "code",
   "execution_count": 477,
   "id": "bc829100",
   "metadata": {},
   "outputs": [
    {
     "data": {
      "text/html": [
       "<div>\n",
       "<style scoped>\n",
       "    .dataframe tbody tr th:only-of-type {\n",
       "        vertical-align: middle;\n",
       "    }\n",
       "\n",
       "    .dataframe tbody tr th {\n",
       "        vertical-align: top;\n",
       "    }\n",
       "\n",
       "    .dataframe thead th {\n",
       "        text-align: right;\n",
       "    }\n",
       "</style>\n",
       "<table border=\"1\" class=\"dataframe\">\n",
       "  <thead>\n",
       "    <tr style=\"text-align: right;\">\n",
       "      <th></th>\n",
       "      <th>temp</th>\n",
       "      <th>humidity</th>\n",
       "      <th>light</th>\n",
       "      <th>co2</th>\n",
       "      <th>humidity_ratio</th>\n",
       "      <th>suitable</th>\n",
       "    </tr>\n",
       "  </thead>\n",
       "  <tbody>\n",
       "    <tr>\n",
       "      <th>count</th>\n",
       "      <td>15080.000000</td>\n",
       "      <td>15080.000000</td>\n",
       "      <td>15080.000000</td>\n",
       "      <td>15080.000000</td>\n",
       "      <td>15080.000000</td>\n",
       "      <td>15080.000000</td>\n",
       "    </tr>\n",
       "    <tr>\n",
       "      <th>mean</th>\n",
       "      <td>20.948475</td>\n",
       "      <td>26.520671</td>\n",
       "      <td>139.891070</td>\n",
       "      <td>621.148233</td>\n",
       "      <td>0.004066</td>\n",
       "      <td>0.242241</td>\n",
       "    </tr>\n",
       "    <tr>\n",
       "      <th>std</th>\n",
       "      <td>1.145097</td>\n",
       "      <td>5.064903</td>\n",
       "      <td>219.841563</td>\n",
       "      <td>272.904169</td>\n",
       "      <td>0.000789</td>\n",
       "      <td>0.428454</td>\n",
       "    </tr>\n",
       "    <tr>\n",
       "      <th>min</th>\n",
       "      <td>19.000000</td>\n",
       "      <td>16.745000</td>\n",
       "      <td>0.000000</td>\n",
       "      <td>412.750000</td>\n",
       "      <td>0.002674</td>\n",
       "      <td>0.000000</td>\n",
       "    </tr>\n",
       "    <tr>\n",
       "      <th>25%</th>\n",
       "      <td>20.200000</td>\n",
       "      <td>22.790000</td>\n",
       "      <td>0.000000</td>\n",
       "      <td>447.000000</td>\n",
       "      <td>0.003508</td>\n",
       "      <td>0.000000</td>\n",
       "    </tr>\n",
       "    <tr>\n",
       "      <th>50%</th>\n",
       "      <td>20.730000</td>\n",
       "      <td>26.100000</td>\n",
       "      <td>0.000000</td>\n",
       "      <td>507.000000</td>\n",
       "      <td>0.003991</td>\n",
       "      <td>0.000000</td>\n",
       "    </tr>\n",
       "    <tr>\n",
       "      <th>75%</th>\n",
       "      <td>21.675000</td>\n",
       "      <td>30.125000</td>\n",
       "      <td>399.500000</td>\n",
       "      <td>664.250000</td>\n",
       "      <td>0.004615</td>\n",
       "      <td>0.000000</td>\n",
       "    </tr>\n",
       "    <tr>\n",
       "      <th>max</th>\n",
       "      <td>24.408333</td>\n",
       "      <td>39.500000</td>\n",
       "      <td>1697.250000</td>\n",
       "      <td>2028.500000</td>\n",
       "      <td>0.006476</td>\n",
       "      <td>1.000000</td>\n",
       "    </tr>\n",
       "  </tbody>\n",
       "</table>\n",
       "</div>"
      ],
      "text/plain": [
       "               temp      humidity         light           co2  humidity_ratio  \\\n",
       "count  15080.000000  15080.000000  15080.000000  15080.000000    15080.000000   \n",
       "mean      20.948475     26.520671    139.891070    621.148233        0.004066   \n",
       "std        1.145097      5.064903    219.841563    272.904169        0.000789   \n",
       "min       19.000000     16.745000      0.000000    412.750000        0.002674   \n",
       "25%       20.200000     22.790000      0.000000    447.000000        0.003508   \n",
       "50%       20.730000     26.100000      0.000000    507.000000        0.003991   \n",
       "75%       21.675000     30.125000    399.500000    664.250000        0.004615   \n",
       "max       24.408333     39.500000   1697.250000   2028.500000        0.006476   \n",
       "\n",
       "           suitable  \n",
       "count  15080.000000  \n",
       "mean       0.242241  \n",
       "std        0.428454  \n",
       "min        0.000000  \n",
       "25%        0.000000  \n",
       "50%        0.000000  \n",
       "75%        0.000000  \n",
       "max        1.000000  "
      ]
     },
     "execution_count": 477,
     "metadata": {},
     "output_type": "execute_result"
    }
   ],
   "source": [
    "df_train.describe()"
   ]
  },
  {
   "cell_type": "markdown",
   "id": "ad93c473",
   "metadata": {},
   "source": [
    "There is no missing values in data which we can check by above 'count'.\n",
    "\n",
    "The mean of light & Co2 is quit high than other variables probably due to different variable scales or outliers.\n",
    "\n",
    "The all values of humidity ratio is below 0. "
   ]
  },
  {
   "cell_type": "code",
   "execution_count": 478,
   "id": "f92b7afa",
   "metadata": {},
   "outputs": [
    {
     "data": {
      "text/plain": [
       "0    11427\n",
       "1     3653\n",
       "Name: suitable, dtype: int64"
      ]
     },
     "execution_count": 478,
     "metadata": {},
     "output_type": "execute_result"
    }
   ],
   "source": [
    "df_train['suitable'].value_counts()"
   ]
  },
  {
   "cell_type": "code",
   "execution_count": 479,
   "id": "48cdda02",
   "metadata": {},
   "outputs": [
    {
     "data": {
      "image/png": "[encoded data removed]",
      "text/plain": [
       "<Figure size 432x288 with 1 Axes>"
      ]
     },
     "metadata": {},
     "output_type": "display_data"
    }
   ],
   "source": [
    "sns.countplot(df_train['suitable'])\n",
    "plt.show()"
   ]
  },
  {
   "cell_type": "markdown",
   "id": "9fa8ad52",
   "metadata": {},
   "source": [
    "As we check target variable & find that data is imbalanced\n",
    "\n",
    "We can upsample or downsample the data to resolve this isssue or there is another technique which is ensable learning method to handle imbalanced dataset. \n"
   ]
  },
  {
   "cell_type": "code",
   "execution_count": 480,
   "id": "20fb2fa2",
   "metadata": {},
   "outputs": [
    {
     "data": {
      "text/plain": [
       "date_time         0\n",
       "temp              0\n",
       "humidity          0\n",
       "light             0\n",
       "co2               0\n",
       "humidity_ratio    0\n",
       "suitable          0\n",
       "dtype: int64"
      ]
     },
     "execution_count": 480,
     "metadata": {},
     "output_type": "execute_result"
    }
   ],
   "source": [
    "df_train.isna().sum() #We have zero missing values"
   ]
  },
  {
   "cell_type": "code",
   "execution_count": 481,
   "id": "efb10d60",
   "metadata": {},
   "outputs": [
    {
     "name": "stdout",
     "output_type": "stream",
     "text": [
      "<class 'pandas.core.frame.DataFrame'>\n",
      "RangeIndex: 15080 entries, 0 to 15079\n",
      "Data columns (total 7 columns):\n",
      " #   Column          Non-Null Count  Dtype  \n",
      "---  ------          --------------  -----  \n",
      " 0   date_time       15080 non-null  object \n",
      " 1   temp            15080 non-null  float64\n",
      " 2   humidity        15080 non-null  float64\n",
      " 3   light           15080 non-null  float64\n",
      " 4   co2             15080 non-null  float64\n",
      " 5   humidity_ratio  15080 non-null  float64\n",
      " 6   suitable        15080 non-null  int64  \n",
      "dtypes: float64(5), int64(1), object(1)\n",
      "memory usage: 824.8+ KB\n"
     ]
    }
   ],
   "source": [
    "df_train.info()"
   ]
  },
  {
   "cell_type": "markdown",
   "id": "986f9d37",
   "metadata": {},
   "source": [
    "# Check Correlation matrix"
   ]
  },
  {
   "cell_type": "code",
   "execution_count": 482,
   "id": "736be3b4",
   "metadata": {},
   "outputs": [
    {
     "data": {
      "text/html": [
       "<div>\n",
       "<style scoped>\n",
       "    .dataframe tbody tr th:only-of-type {\n",
       "        vertical-align: middle;\n",
       "    }\n",
       "\n",
       "    .dataframe tbody tr th {\n",
       "        vertical-align: top;\n",
       "    }\n",
       "\n",
       "    .dataframe thead th {\n",
       "        text-align: right;\n",
       "    }\n",
       "</style>\n",
       "<table border=\"1\" class=\"dataframe\">\n",
       "  <thead>\n",
       "    <tr style=\"text-align: right;\">\n",
       "      <th></th>\n",
       "      <th>temp</th>\n",
       "      <th>humidity</th>\n",
       "      <th>light</th>\n",
       "      <th>co2</th>\n",
       "      <th>humidity_ratio</th>\n",
       "      <th>suitable</th>\n",
       "    </tr>\n",
       "  </thead>\n",
       "  <tbody>\n",
       "    <tr>\n",
       "      <th>temp</th>\n",
       "      <td>1.000000</td>\n",
       "      <td>-0.137672</td>\n",
       "      <td>0.688205</td>\n",
       "      <td>0.550971</td>\n",
       "      <td>0.237337</td>\n",
       "      <td>0.558213</td>\n",
       "    </tr>\n",
       "    <tr>\n",
       "      <th>humidity</th>\n",
       "      <td>-0.137672</td>\n",
       "      <td>1.000000</td>\n",
       "      <td>0.006267</td>\n",
       "      <td>0.310240</td>\n",
       "      <td>0.927779</td>\n",
       "      <td>0.085588</td>\n",
       "    </tr>\n",
       "    <tr>\n",
       "      <th>light</th>\n",
       "      <td>0.688205</td>\n",
       "      <td>0.006267</td>\n",
       "      <td>1.000000</td>\n",
       "      <td>0.617691</td>\n",
       "      <td>0.266428</td>\n",
       "      <td>0.908186</td>\n",
       "    </tr>\n",
       "    <tr>\n",
       "      <th>co2</th>\n",
       "      <td>0.550971</td>\n",
       "      <td>0.310240</td>\n",
       "      <td>0.617691</td>\n",
       "      <td>1.000000</td>\n",
       "      <td>0.530475</td>\n",
       "      <td>0.664946</td>\n",
       "    </tr>\n",
       "    <tr>\n",
       "      <th>humidity_ratio</th>\n",
       "      <td>0.237337</td>\n",
       "      <td>0.927779</td>\n",
       "      <td>0.266428</td>\n",
       "      <td>0.530475</td>\n",
       "      <td>1.000000</td>\n",
       "      <td>0.303626</td>\n",
       "    </tr>\n",
       "    <tr>\n",
       "      <th>suitable</th>\n",
       "      <td>0.558213</td>\n",
       "      <td>0.085588</td>\n",
       "      <td>0.908186</td>\n",
       "      <td>0.664946</td>\n",
       "      <td>0.303626</td>\n",
       "      <td>1.000000</td>\n",
       "    </tr>\n",
       "  </tbody>\n",
       "</table>\n",
       "</div>"
      ],
      "text/plain": [
       "                    temp  humidity     light       co2  humidity_ratio  \\\n",
       "temp            1.000000 -0.137672  0.688205  0.550971        0.237337   \n",
       "humidity       -0.137672  1.000000  0.006267  0.310240        0.927779   \n",
       "light           0.688205  0.006267  1.000000  0.617691        0.266428   \n",
       "co2             0.550971  0.310240  0.617691  1.000000        0.530475   \n",
       "humidity_ratio  0.237337  0.927779  0.266428  0.530475        1.000000   \n",
       "suitable        0.558213  0.085588  0.908186  0.664946        0.303626   \n",
       "\n",
       "                suitable  \n",
       "temp            0.558213  \n",
       "humidity        0.085588  \n",
       "light           0.908186  \n",
       "co2             0.664946  \n",
       "humidity_ratio  0.303626  \n",
       "suitable        1.000000  "
      ]
     },
     "execution_count": 482,
     "metadata": {},
     "output_type": "execute_result"
    }
   ],
   "source": [
    "df_train.corr()"
   ]
  },
  {
   "cell_type": "code",
   "execution_count": 483,
   "id": "8524d204",
   "metadata": {},
   "outputs": [
    {
     "data": {
      "image/png": "[encoded data removed]",
      "text/plain": [
       "<Figure size 432x288 with 2 Axes>"
      ]
     },
     "metadata": {},
     "output_type": "display_data"
    }
   ],
   "source": [
    "sns.heatmap(df_train.corr(),cmap='YlGnBu',annot=True)\n",
    "plt.show()"
   ]
  },
  {
   "cell_type": "markdown",
   "id": "81ad330c",
   "metadata": {},
   "source": [
    "As we checked 'co2' & 'light' both variables are highly correlated with target.\n",
    "\n",
    "After that 'temp' is moderate correlated also 'humadity' and 'humadity_ratio' is less correlated with target."
   ]
  },
  {
   "cell_type": "markdown",
   "id": "af886bc4",
   "metadata": {},
   "source": [
    "# Outliers treatment"
   ]
  },
  {
   "cell_type": "code",
   "execution_count": 484,
   "id": "8654485d",
   "metadata": {},
   "outputs": [
    {
     "data": {
      "text/plain": [
       "<matplotlib.axes._subplots.AxesSubplot at 0x1462b550>"
      ]
     },
     "execution_count": 484,
     "metadata": {},
     "output_type": "execute_result"
    },
    {
     "data": {
      "image/png": "[encoded data removed]",
      "text/plain": [
       "<Figure size 432x288 with 1 Axes>"
      ]
     },
     "metadata": {},
     "output_type": "display_data"
    }
   ],
   "source": [
    "df_train.boxplot()"
   ]
  },
  {
   "cell_type": "markdown",
   "id": "9e61242b",
   "metadata": {},
   "source": [
    "We found outliers in 'light','co2'&little bit in 'humidity'."
   ]
  },
  {
   "cell_type": "code",
   "execution_count": 485,
   "id": "307e1c67",
   "metadata": {},
   "outputs": [],
   "source": [
    "def outliers_cap(df,col,factor):\n",
    "    for col in col:\n",
    "        q1=df[col].quantile(0.25)\n",
    "        q3=df[col].quantile(0.75)\n",
    "        \n",
    "        iqr=q3-q1\n",
    "        \n",
    "        upper_whisker=q3+(factor*iqr)\n",
    "        lower_whisker=q1-(factor*iqr)\n",
    "        \n",
    "        df[col]=np.where(df[col]>upper_whisker,upper_whisker,np.where(df[col]<lower_whisker,lower_whisker,df[col]))\n",
    "        \n",
    "        "
   ]
  },
  {
   "cell_type": "code",
   "execution_count": 486,
   "id": "5a87d0b4",
   "metadata": {},
   "outputs": [],
   "source": [
    "features=df_train[['temp','humidity','light','co2','humidity_ratio']]"
   ]
  },
  {
   "cell_type": "code",
   "execution_count": 487,
   "id": "b72e3154",
   "metadata": {},
   "outputs": [],
   "source": [
    "outliers_cap(df_train,features,1.5)"
   ]
  },
  {
   "cell_type": "markdown",
   "id": "5d3be24b",
   "metadata": {},
   "source": [
    "#### Check 0 & 1 with group by"
   ]
  },
  {
   "cell_type": "code",
   "execution_count": 488,
   "id": "97e3cad2",
   "metadata": {},
   "outputs": [
    {
     "data": {
      "text/html": [
       "<div>\n",
       "<style scoped>\n",
       "    .dataframe tbody tr th:only-of-type {\n",
       "        vertical-align: middle;\n",
       "    }\n",
       "\n",
       "    .dataframe tbody tr th {\n",
       "        vertical-align: top;\n",
       "    }\n",
       "\n",
       "    .dataframe thead th {\n",
       "        text-align: right;\n",
       "    }\n",
       "</style>\n",
       "<table border=\"1\" class=\"dataframe\">\n",
       "  <thead>\n",
       "    <tr style=\"text-align: right;\">\n",
       "      <th></th>\n",
       "      <th>light_max</th>\n",
       "      <th>light_min</th>\n",
       "      <th>light_mean</th>\n",
       "    </tr>\n",
       "    <tr>\n",
       "      <th>suitable</th>\n",
       "      <th></th>\n",
       "      <th></th>\n",
       "      <th></th>\n",
       "    </tr>\n",
       "  </thead>\n",
       "  <tbody>\n",
       "    <tr>\n",
       "      <th>0</th>\n",
       "      <td>998.75</td>\n",
       "      <td>0.0</td>\n",
       "      <td>26.920457</td>\n",
       "    </tr>\n",
       "    <tr>\n",
       "      <th>1</th>\n",
       "      <td>998.75</td>\n",
       "      <td>0.0</td>\n",
       "      <td>492.364807</td>\n",
       "    </tr>\n",
       "  </tbody>\n",
       "</table>\n",
       "</div>"
      ],
      "text/plain": [
       "          light_max  light_min  light_mean\n",
       "suitable                                  \n",
       "0            998.75        0.0   26.920457\n",
       "1            998.75        0.0  492.364807"
      ]
     },
     "execution_count": 488,
     "metadata": {},
     "output_type": "execute_result"
    }
   ],
   "source": [
    "df_train.groupby('suitable').light.agg(light_max=('max'),light_min=('min'),light_mean=('mean'))"
   ]
  },
  {
   "cell_type": "code",
   "execution_count": 489,
   "id": "bd788cde",
   "metadata": {},
   "outputs": [
    {
     "data": {
      "text/html": [
       "<div>\n",
       "<style scoped>\n",
       "    .dataframe tbody tr th:only-of-type {\n",
       "        vertical-align: middle;\n",
       "    }\n",
       "\n",
       "    .dataframe tbody tr th {\n",
       "        vertical-align: top;\n",
       "    }\n",
       "\n",
       "    .dataframe thead th {\n",
       "        text-align: right;\n",
       "    }\n",
       "</style>\n",
       "<table border=\"1\" class=\"dataframe\">\n",
       "  <thead>\n",
       "    <tr style=\"text-align: right;\">\n",
       "      <th></th>\n",
       "      <th>Humidity_max</th>\n",
       "      <th>Humidity_min</th>\n",
       "      <th>Humidity_mean</th>\n",
       "    </tr>\n",
       "    <tr>\n",
       "      <th>suitable</th>\n",
       "      <th></th>\n",
       "      <th></th>\n",
       "      <th></th>\n",
       "    </tr>\n",
       "  </thead>\n",
       "  <tbody>\n",
       "    <tr>\n",
       "      <th>0</th>\n",
       "      <td>0.006218</td>\n",
       "      <td>0.002674</td>\n",
       "      <td>0.003930</td>\n",
       "    </tr>\n",
       "    <tr>\n",
       "      <th>1</th>\n",
       "      <td>0.006276</td>\n",
       "      <td>0.002715</td>\n",
       "      <td>0.004486</td>\n",
       "    </tr>\n",
       "  </tbody>\n",
       "</table>\n",
       "</div>"
      ],
      "text/plain": [
       "          Humidity_max  Humidity_min  Humidity_mean\n",
       "suitable                                           \n",
       "0             0.006218      0.002674       0.003930\n",
       "1             0.006276      0.002715       0.004486"
      ]
     },
     "execution_count": 489,
     "metadata": {},
     "output_type": "execute_result"
    }
   ],
   "source": [
    "df_train.groupby('suitable').humidity_ratio.agg(Humidity_max=('max'),Humidity_min=('min'),Humidity_mean=('mean'))"
   ]
  },
  {
   "cell_type": "markdown",
   "id": "a925e451",
   "metadata": {},
   "source": [
    "# Check distribution of numeric variables"
   ]
  },
  {
   "cell_type": "code",
   "execution_count": 490,
   "id": "b98aeca1",
   "metadata": {},
   "outputs": [
    {
     "data": {
      "image/png": "[encoded data removed]",
      "text/plain": [
       "<Figure size 1080x432 with 8 Axes>"
      ]
     },
     "metadata": {},
     "output_type": "display_data"
    }
   ],
   "source": [
    "df_train[['temp','humidity','light','co2','humidity_ratio']].hist(bins=15, figsize=(15, 6), layout=(2, 4));"
   ]
  },
  {
   "cell_type": "markdown",
   "id": "bc039b52",
   "metadata": {},
   "source": [
    "only 'humidity' follows normal distribution.\n",
    "\n",
    "'temp' follows right skewed distribution"
   ]
  },
  {
   "cell_type": "markdown",
   "id": "3cb19a81",
   "metadata": {},
   "source": [
    "#### To scale down all features on same scale and to reduce skewness of the features we need to transform them between 0-1."
   ]
  },
  {
   "cell_type": "code",
   "execution_count": 491,
   "id": "067b0b2e",
   "metadata": {},
   "outputs": [],
   "source": [
    "#We have to make normalize light & CO2 due to high value range than other columns\n",
    "from sklearn.preprocessing import MinMaxScaler"
   ]
  },
  {
   "cell_type": "code",
   "execution_count": 492,
   "id": "e29ec0b4",
   "metadata": {},
   "outputs": [],
   "source": [
    "#Saperate numeric columns from original df excluding target variable\n",
    "num_data=df_train.select_dtypes(include=np.number)"
   ]
  },
  {
   "cell_type": "markdown",
   "id": "10e37499",
   "metadata": {},
   "source": [
    "#### Remove target variable & set to y"
   ]
  },
  {
   "cell_type": "code",
   "execution_count": 493,
   "id": "91c81e6b",
   "metadata": {},
   "outputs": [],
   "source": [
    "y=num_data.pop('suitable')"
   ]
  },
  {
   "cell_type": "code",
   "execution_count": 494,
   "id": "849e3ef8",
   "metadata": {},
   "outputs": [
    {
     "data": {
      "text/html": [
       "<div>\n",
       "<style scoped>\n",
       "    .dataframe tbody tr th:only-of-type {\n",
       "        vertical-align: middle;\n",
       "    }\n",
       "\n",
       "    .dataframe tbody tr th {\n",
       "        vertical-align: top;\n",
       "    }\n",
       "\n",
       "    .dataframe thead th {\n",
       "        text-align: right;\n",
       "    }\n",
       "</style>\n",
       "<table border=\"1\" class=\"dataframe\">\n",
       "  <thead>\n",
       "    <tr style=\"text-align: right;\">\n",
       "      <th></th>\n",
       "      <th>temp</th>\n",
       "      <th>humidity</th>\n",
       "      <th>light</th>\n",
       "      <th>co2</th>\n",
       "      <th>humidity_ratio</th>\n",
       "    </tr>\n",
       "  </thead>\n",
       "  <tbody>\n",
       "    <tr>\n",
       "      <th>0</th>\n",
       "      <td>23.700000</td>\n",
       "      <td>26.272000</td>\n",
       "      <td>585.200000</td>\n",
       "      <td>749.200000</td>\n",
       "      <td>0.004764</td>\n",
       "    </tr>\n",
       "    <tr>\n",
       "      <th>1</th>\n",
       "      <td>23.718000</td>\n",
       "      <td>26.290000</td>\n",
       "      <td>578.400000</td>\n",
       "      <td>760.400000</td>\n",
       "      <td>0.004773</td>\n",
       "    </tr>\n",
       "    <tr>\n",
       "      <th>2</th>\n",
       "      <td>23.730000</td>\n",
       "      <td>26.230000</td>\n",
       "      <td>572.666667</td>\n",
       "      <td>769.666667</td>\n",
       "      <td>0.004765</td>\n",
       "    </tr>\n",
       "    <tr>\n",
       "      <th>3</th>\n",
       "      <td>23.722500</td>\n",
       "      <td>26.125000</td>\n",
       "      <td>493.750000</td>\n",
       "      <td>774.750000</td>\n",
       "      <td>0.004744</td>\n",
       "    </tr>\n",
       "    <tr>\n",
       "      <th>4</th>\n",
       "      <td>23.754000</td>\n",
       "      <td>26.200000</td>\n",
       "      <td>488.600000</td>\n",
       "      <td>779.000000</td>\n",
       "      <td>0.004767</td>\n",
       "    </tr>\n",
       "    <tr>\n",
       "      <th>...</th>\n",
       "      <td>...</td>\n",
       "      <td>...</td>\n",
       "      <td>...</td>\n",
       "      <td>...</td>\n",
       "      <td>...</td>\n",
       "    </tr>\n",
       "    <tr>\n",
       "      <th>15075</th>\n",
       "      <td>20.417500</td>\n",
       "      <td>35.317500</td>\n",
       "      <td>37.000000</td>\n",
       "      <td>504.000000</td>\n",
       "      <td>0.005247</td>\n",
       "    </tr>\n",
       "    <tr>\n",
       "      <th>15076</th>\n",
       "      <td>20.500000</td>\n",
       "      <td>35.400000</td>\n",
       "      <td>23.500000</td>\n",
       "      <td>509.000000</td>\n",
       "      <td>0.005286</td>\n",
       "    </tr>\n",
       "    <tr>\n",
       "      <th>15077</th>\n",
       "      <td>20.426667</td>\n",
       "      <td>35.363333</td>\n",
       "      <td>19.000000</td>\n",
       "      <td>508.000000</td>\n",
       "      <td>0.005257</td>\n",
       "    </tr>\n",
       "    <tr>\n",
       "      <th>15078</th>\n",
       "      <td>20.390000</td>\n",
       "      <td>35.372500</td>\n",
       "      <td>33.500000</td>\n",
       "      <td>505.000000</td>\n",
       "      <td>0.005246</td>\n",
       "    </tr>\n",
       "    <tr>\n",
       "      <th>15079</th>\n",
       "      <td>20.390000</td>\n",
       "      <td>35.400000</td>\n",
       "      <td>38.333333</td>\n",
       "      <td>502.666667</td>\n",
       "      <td>0.005250</td>\n",
       "    </tr>\n",
       "  </tbody>\n",
       "</table>\n",
       "<p>15080 rows × 5 columns</p>\n",
       "</div>"
      ],
      "text/plain": [
       "            temp   humidity       light         co2  humidity_ratio\n",
       "0      23.700000  26.272000  585.200000  749.200000        0.004764\n",
       "1      23.718000  26.290000  578.400000  760.400000        0.004773\n",
       "2      23.730000  26.230000  572.666667  769.666667        0.004765\n",
       "3      23.722500  26.125000  493.750000  774.750000        0.004744\n",
       "4      23.754000  26.200000  488.600000  779.000000        0.004767\n",
       "...          ...        ...         ...         ...             ...\n",
       "15075  20.417500  35.317500   37.000000  504.000000        0.005247\n",
       "15076  20.500000  35.400000   23.500000  509.000000        0.005286\n",
       "15077  20.426667  35.363333   19.000000  508.000000        0.005257\n",
       "15078  20.390000  35.372500   33.500000  505.000000        0.005246\n",
       "15079  20.390000  35.400000   38.333333  502.666667        0.005250\n",
       "\n",
       "[15080 rows x 5 columns]"
      ]
     },
     "execution_count": 494,
     "metadata": {},
     "output_type": "execute_result"
    }
   ],
   "source": [
    "num_data"
   ]
  },
  {
   "cell_type": "code",
   "execution_count": 495,
   "id": "ef4bf4cc",
   "metadata": {},
   "outputs": [],
   "source": [
    "scaler=MinMaxScaler()\n",
    "scaler.fit(num_data)\n",
    "#Scaled numeric features & rename scaled columns \n",
    "Scaled_df_train=scaler.transform(num_data)\n",
    "Scaled_df_train=pd.DataFrame(Scaled_df_train,columns=['S_temp','S_humidity','S_light','S_co2','S_humidity_ratio'])"
   ]
  },
  {
   "cell_type": "code",
   "execution_count": 496,
   "id": "eadb9d6d",
   "metadata": {},
   "outputs": [
    {
     "data": {
      "text/html": [
       "<div>\n",
       "<style scoped>\n",
       "    .dataframe tbody tr th:only-of-type {\n",
       "        vertical-align: middle;\n",
       "    }\n",
       "\n",
       "    .dataframe tbody tr th {\n",
       "        vertical-align: top;\n",
       "    }\n",
       "\n",
       "    .dataframe thead th {\n",
       "        text-align: right;\n",
       "    }\n",
       "</style>\n",
       "<table border=\"1\" class=\"dataframe\">\n",
       "  <thead>\n",
       "    <tr style=\"text-align: right;\">\n",
       "      <th></th>\n",
       "      <th>S_temp</th>\n",
       "      <th>S_humidity</th>\n",
       "      <th>S_light</th>\n",
       "      <th>S_co2</th>\n",
       "      <th>S_humidity_ratio</th>\n",
       "    </tr>\n",
       "  </thead>\n",
       "  <tbody>\n",
       "    <tr>\n",
       "      <th>0</th>\n",
       "      <td>0.961637</td>\n",
       "      <td>0.418677</td>\n",
       "      <td>0.585932</td>\n",
       "      <td>0.582724</td>\n",
       "      <td>0.580297</td>\n",
       "    </tr>\n",
       "    <tr>\n",
       "      <th>1</th>\n",
       "      <td>0.965320</td>\n",
       "      <td>0.419468</td>\n",
       "      <td>0.579124</td>\n",
       "      <td>0.602122</td>\n",
       "      <td>0.582657</td>\n",
       "    </tr>\n",
       "    <tr>\n",
       "      <th>2</th>\n",
       "      <td>0.967775</td>\n",
       "      <td>0.416831</td>\n",
       "      <td>0.573383</td>\n",
       "      <td>0.618171</td>\n",
       "      <td>0.580572</td>\n",
       "    </tr>\n",
       "    <tr>\n",
       "      <th>3</th>\n",
       "      <td>0.966240</td>\n",
       "      <td>0.412217</td>\n",
       "      <td>0.494368</td>\n",
       "      <td>0.626976</td>\n",
       "      <td>0.574636</td>\n",
       "    </tr>\n",
       "    <tr>\n",
       "      <th>4</th>\n",
       "      <td>0.972685</td>\n",
       "      <td>0.415513</td>\n",
       "      <td>0.489212</td>\n",
       "      <td>0.634336</td>\n",
       "      <td>0.580972</td>\n",
       "    </tr>\n",
       "  </tbody>\n",
       "</table>\n",
       "</div>"
      ],
      "text/plain": [
       "     S_temp  S_humidity   S_light     S_co2  S_humidity_ratio\n",
       "0  0.961637    0.418677  0.585932  0.582724          0.580297\n",
       "1  0.965320    0.419468  0.579124  0.602122          0.582657\n",
       "2  0.967775    0.416831  0.573383  0.618171          0.580572\n",
       "3  0.966240    0.412217  0.494368  0.626976          0.574636\n",
       "4  0.972685    0.415513  0.489212  0.634336          0.580972"
      ]
     },
     "execution_count": 496,
     "metadata": {},
     "output_type": "execute_result"
    }
   ],
   "source": [
    "Scaled_df_train.head()"
   ]
  },
  {
   "cell_type": "code",
   "execution_count": 497,
   "id": "505ecf4b",
   "metadata": {},
   "outputs": [
    {
     "data": {
      "text/html": [
       "<div>\n",
       "<style scoped>\n",
       "    .dataframe tbody tr th:only-of-type {\n",
       "        vertical-align: middle;\n",
       "    }\n",
       "\n",
       "    .dataframe tbody tr th {\n",
       "        vertical-align: top;\n",
       "    }\n",
       "\n",
       "    .dataframe thead th {\n",
       "        text-align: right;\n",
       "    }\n",
       "</style>\n",
       "<table border=\"1\" class=\"dataframe\">\n",
       "  <thead>\n",
       "    <tr style=\"text-align: right;\">\n",
       "      <th></th>\n",
       "      <th>S_temp</th>\n",
       "      <th>S_humidity</th>\n",
       "      <th>S_light</th>\n",
       "      <th>S_co2</th>\n",
       "      <th>S_humidity_ratio</th>\n",
       "    </tr>\n",
       "  </thead>\n",
       "  <tbody>\n",
       "    <tr>\n",
       "      <th>count</th>\n",
       "      <td>15080.000000</td>\n",
       "      <td>15080.000000</td>\n",
       "      <td>15080.000000</td>\n",
       "      <td>15080.000000</td>\n",
       "      <td>15080.000000</td>\n",
       "    </tr>\n",
       "    <tr>\n",
       "      <th>mean</th>\n",
       "      <td>0.397956</td>\n",
       "      <td>0.429605</td>\n",
       "      <td>0.139845</td>\n",
       "      <td>0.309252</td>\n",
       "      <td>0.386137</td>\n",
       "    </tr>\n",
       "    <tr>\n",
       "      <th>std</th>\n",
       "      <td>0.232371</td>\n",
       "      <td>0.222584</td>\n",
       "      <td>0.218994</td>\n",
       "      <td>0.326307</td>\n",
       "      <td>0.218315</td>\n",
       "    </tr>\n",
       "    <tr>\n",
       "      <th>min</th>\n",
       "      <td>0.000000</td>\n",
       "      <td>0.000000</td>\n",
       "      <td>0.000000</td>\n",
       "      <td>0.000000</td>\n",
       "      <td>0.000000</td>\n",
       "    </tr>\n",
       "    <tr>\n",
       "      <th>25%</th>\n",
       "      <td>0.245524</td>\n",
       "      <td>0.265656</td>\n",
       "      <td>0.000000</td>\n",
       "      <td>0.059320</td>\n",
       "      <td>0.231564</td>\n",
       "    </tr>\n",
       "    <tr>\n",
       "      <th>50%</th>\n",
       "      <td>0.353964</td>\n",
       "      <td>0.411118</td>\n",
       "      <td>0.000000</td>\n",
       "      <td>0.163239</td>\n",
       "      <td>0.365668</td>\n",
       "    </tr>\n",
       "    <tr>\n",
       "      <th>75%</th>\n",
       "      <td>0.547315</td>\n",
       "      <td>0.588003</td>\n",
       "      <td>0.400000</td>\n",
       "      <td>0.435592</td>\n",
       "      <td>0.538938</td>\n",
       "    </tr>\n",
       "    <tr>\n",
       "      <th>max</th>\n",
       "      <td>1.000000</td>\n",
       "      <td>1.000000</td>\n",
       "      <td>1.000000</td>\n",
       "      <td>1.000000</td>\n",
       "      <td>1.000000</td>\n",
       "    </tr>\n",
       "  </tbody>\n",
       "</table>\n",
       "</div>"
      ],
      "text/plain": [
       "             S_temp    S_humidity       S_light         S_co2  \\\n",
       "count  15080.000000  15080.000000  15080.000000  15080.000000   \n",
       "mean       0.397956      0.429605      0.139845      0.309252   \n",
       "std        0.232371      0.222584      0.218994      0.326307   \n",
       "min        0.000000      0.000000      0.000000      0.000000   \n",
       "25%        0.245524      0.265656      0.000000      0.059320   \n",
       "50%        0.353964      0.411118      0.000000      0.163239   \n",
       "75%        0.547315      0.588003      0.400000      0.435592   \n",
       "max        1.000000      1.000000      1.000000      1.000000   \n",
       "\n",
       "       S_humidity_ratio  \n",
       "count      15080.000000  \n",
       "mean           0.386137  \n",
       "std            0.218315  \n",
       "min            0.000000  \n",
       "25%            0.231564  \n",
       "50%            0.365668  \n",
       "75%            0.538938  \n",
       "max            1.000000  "
      ]
     },
     "execution_count": 497,
     "metadata": {},
     "output_type": "execute_result"
    }
   ],
   "source": [
    "Scaled_df_train.describe()"
   ]
  },
  {
   "cell_type": "markdown",
   "id": "1f792a84",
   "metadata": {},
   "source": [
    "### Concat df_train & scaled_df_train to create a new 'train' DataFrame"
   ]
  },
  {
   "cell_type": "code",
   "execution_count": 498,
   "id": "1a113ce1",
   "metadata": {},
   "outputs": [],
   "source": [
    "train=pd.concat([df_train,Scaled_df_train],axis=1) #Concat scaled columns with exsting dataset"
   ]
  },
  {
   "cell_type": "code",
   "execution_count": 499,
   "id": "c9e42499",
   "metadata": {},
   "outputs": [
    {
     "data": {
      "text/html": [
       "<div>\n",
       "<style scoped>\n",
       "    .dataframe tbody tr th:only-of-type {\n",
       "        vertical-align: middle;\n",
       "    }\n",
       "\n",
       "    .dataframe tbody tr th {\n",
       "        vertical-align: top;\n",
       "    }\n",
       "\n",
       "    .dataframe thead th {\n",
       "        text-align: right;\n",
       "    }\n",
       "</style>\n",
       "<table border=\"1\" class=\"dataframe\">\n",
       "  <thead>\n",
       "    <tr style=\"text-align: right;\">\n",
       "      <th></th>\n",
       "      <th>date_time</th>\n",
       "      <th>temp</th>\n",
       "      <th>humidity</th>\n",
       "      <th>light</th>\n",
       "      <th>co2</th>\n",
       "      <th>humidity_ratio</th>\n",
       "      <th>suitable</th>\n",
       "      <th>S_temp</th>\n",
       "      <th>S_humidity</th>\n",
       "      <th>S_light</th>\n",
       "      <th>S_co2</th>\n",
       "      <th>S_humidity_ratio</th>\n",
       "    </tr>\n",
       "  </thead>\n",
       "  <tbody>\n",
       "    <tr>\n",
       "      <th>0</th>\n",
       "      <td>2015-02-02 14:19:00</td>\n",
       "      <td>23.7000</td>\n",
       "      <td>26.272</td>\n",
       "      <td>585.200000</td>\n",
       "      <td>749.200000</td>\n",
       "      <td>0.004764</td>\n",
       "      <td>1</td>\n",
       "      <td>0.961637</td>\n",
       "      <td>0.418677</td>\n",
       "      <td>0.585932</td>\n",
       "      <td>0.582724</td>\n",
       "      <td>0.580297</td>\n",
       "    </tr>\n",
       "    <tr>\n",
       "      <th>1</th>\n",
       "      <td>2015-02-02 14:19:59</td>\n",
       "      <td>23.7180</td>\n",
       "      <td>26.290</td>\n",
       "      <td>578.400000</td>\n",
       "      <td>760.400000</td>\n",
       "      <td>0.004773</td>\n",
       "      <td>1</td>\n",
       "      <td>0.965320</td>\n",
       "      <td>0.419468</td>\n",
       "      <td>0.579124</td>\n",
       "      <td>0.602122</td>\n",
       "      <td>0.582657</td>\n",
       "    </tr>\n",
       "    <tr>\n",
       "      <th>2</th>\n",
       "      <td>2015-02-02 14:21:00</td>\n",
       "      <td>23.7300</td>\n",
       "      <td>26.230</td>\n",
       "      <td>572.666667</td>\n",
       "      <td>769.666667</td>\n",
       "      <td>0.004765</td>\n",
       "      <td>1</td>\n",
       "      <td>0.967775</td>\n",
       "      <td>0.416831</td>\n",
       "      <td>0.573383</td>\n",
       "      <td>0.618171</td>\n",
       "      <td>0.580572</td>\n",
       "    </tr>\n",
       "    <tr>\n",
       "      <th>3</th>\n",
       "      <td>2015-02-02 14:22:00</td>\n",
       "      <td>23.7225</td>\n",
       "      <td>26.125</td>\n",
       "      <td>493.750000</td>\n",
       "      <td>774.750000</td>\n",
       "      <td>0.004744</td>\n",
       "      <td>1</td>\n",
       "      <td>0.966240</td>\n",
       "      <td>0.412217</td>\n",
       "      <td>0.494368</td>\n",
       "      <td>0.626976</td>\n",
       "      <td>0.574636</td>\n",
       "    </tr>\n",
       "    <tr>\n",
       "      <th>4</th>\n",
       "      <td>2015-02-02 14:23:00</td>\n",
       "      <td>23.7540</td>\n",
       "      <td>26.200</td>\n",
       "      <td>488.600000</td>\n",
       "      <td>779.000000</td>\n",
       "      <td>0.004767</td>\n",
       "      <td>1</td>\n",
       "      <td>0.972685</td>\n",
       "      <td>0.415513</td>\n",
       "      <td>0.489212</td>\n",
       "      <td>0.634336</td>\n",
       "      <td>0.580972</td>\n",
       "    </tr>\n",
       "  </tbody>\n",
       "</table>\n",
       "</div>"
      ],
      "text/plain": [
       "             date_time     temp  humidity       light         co2  \\\n",
       "0  2015-02-02 14:19:00  23.7000    26.272  585.200000  749.200000   \n",
       "1  2015-02-02 14:19:59  23.7180    26.290  578.400000  760.400000   \n",
       "2  2015-02-02 14:21:00  23.7300    26.230  572.666667  769.666667   \n",
       "3  2015-02-02 14:22:00  23.7225    26.125  493.750000  774.750000   \n",
       "4  2015-02-02 14:23:00  23.7540    26.200  488.600000  779.000000   \n",
       "\n",
       "   humidity_ratio  suitable    S_temp  S_humidity   S_light     S_co2  \\\n",
       "0        0.004764         1  0.961637    0.418677  0.585932  0.582724   \n",
       "1        0.004773         1  0.965320    0.419468  0.579124  0.602122   \n",
       "2        0.004765         1  0.967775    0.416831  0.573383  0.618171   \n",
       "3        0.004744         1  0.966240    0.412217  0.494368  0.626976   \n",
       "4        0.004767         1  0.972685    0.415513  0.489212  0.634336   \n",
       "\n",
       "   S_humidity_ratio  \n",
       "0          0.580297  \n",
       "1          0.582657  \n",
       "2          0.580572  \n",
       "3          0.574636  \n",
       "4          0.580972  "
      ]
     },
     "execution_count": 499,
     "metadata": {},
     "output_type": "execute_result"
    }
   ],
   "source": [
    "train.head()"
   ]
  },
  {
   "cell_type": "markdown",
   "id": "d7a24098",
   "metadata": {},
   "source": [
    "#### Remove old (non scaled) features"
   ]
  },
  {
   "cell_type": "code",
   "execution_count": 500,
   "id": "ae4126ea",
   "metadata": {},
   "outputs": [],
   "source": [
    "train=train.drop(['temp','humidity','light','co2','humidity_ratio'],axis=1)"
   ]
  },
  {
   "cell_type": "code",
   "execution_count": 501,
   "id": "01c3cfd5",
   "metadata": {},
   "outputs": [],
   "source": [
    "date_time=train['date_time']"
   ]
  },
  {
   "cell_type": "markdown",
   "id": "e7058bd7",
   "metadata": {},
   "source": [
    "#### Remove prefix 'S_' & rename columns with original name"
   ]
  },
  {
   "cell_type": "code",
   "execution_count": 502,
   "id": "9ce1e58a",
   "metadata": {},
   "outputs": [],
   "source": [
    "train.columns=train.columns.str.replace('S_','')"
   ]
  },
  {
   "cell_type": "code",
   "execution_count": 503,
   "id": "ae47e4cb",
   "metadata": {},
   "outputs": [
    {
     "data": {
      "text/html": [
       "<div>\n",
       "<style scoped>\n",
       "    .dataframe tbody tr th:only-of-type {\n",
       "        vertical-align: middle;\n",
       "    }\n",
       "\n",
       "    .dataframe tbody tr th {\n",
       "        vertical-align: top;\n",
       "    }\n",
       "\n",
       "    .dataframe thead th {\n",
       "        text-align: right;\n",
       "    }\n",
       "</style>\n",
       "<table border=\"1\" class=\"dataframe\">\n",
       "  <thead>\n",
       "    <tr style=\"text-align: right;\">\n",
       "      <th></th>\n",
       "      <th>temp</th>\n",
       "      <th>humidity</th>\n",
       "      <th>light</th>\n",
       "      <th>co2</th>\n",
       "      <th>humidity_ratio</th>\n",
       "    </tr>\n",
       "  </thead>\n",
       "  <tbody>\n",
       "    <tr>\n",
       "      <th>0</th>\n",
       "      <td>0.961637</td>\n",
       "      <td>0.418677</td>\n",
       "      <td>0.585932</td>\n",
       "      <td>0.582724</td>\n",
       "      <td>0.580297</td>\n",
       "    </tr>\n",
       "    <tr>\n",
       "      <th>1</th>\n",
       "      <td>0.965320</td>\n",
       "      <td>0.419468</td>\n",
       "      <td>0.579124</td>\n",
       "      <td>0.602122</td>\n",
       "      <td>0.582657</td>\n",
       "    </tr>\n",
       "    <tr>\n",
       "      <th>2</th>\n",
       "      <td>0.967775</td>\n",
       "      <td>0.416831</td>\n",
       "      <td>0.573383</td>\n",
       "      <td>0.618171</td>\n",
       "      <td>0.580572</td>\n",
       "    </tr>\n",
       "    <tr>\n",
       "      <th>3</th>\n",
       "      <td>0.966240</td>\n",
       "      <td>0.412217</td>\n",
       "      <td>0.494368</td>\n",
       "      <td>0.626976</td>\n",
       "      <td>0.574636</td>\n",
       "    </tr>\n",
       "    <tr>\n",
       "      <th>4</th>\n",
       "      <td>0.972685</td>\n",
       "      <td>0.415513</td>\n",
       "      <td>0.489212</td>\n",
       "      <td>0.634336</td>\n",
       "      <td>0.580972</td>\n",
       "    </tr>\n",
       "  </tbody>\n",
       "</table>\n",
       "</div>"
      ],
      "text/plain": [
       "       temp  humidity     light       co2  humidity_ratio\n",
       "0  0.961637  0.418677  0.585932  0.582724        0.580297\n",
       "1  0.965320  0.419468  0.579124  0.602122        0.582657\n",
       "2  0.967775  0.416831  0.573383  0.618171        0.580572\n",
       "3  0.966240  0.412217  0.494368  0.626976        0.574636\n",
       "4  0.972685  0.415513  0.489212  0.634336        0.580972"
      ]
     },
     "execution_count": 503,
     "metadata": {},
     "output_type": "execute_result"
    }
   ],
   "source": [
    "train=train[['temp','humidity','light','co2','humidity_ratio']];train.head()"
   ]
  },
  {
   "cell_type": "code",
   "execution_count": 504,
   "id": "e01d87dd",
   "metadata": {},
   "outputs": [],
   "source": [
    "#Add 'date_time' to dataset\n",
    "train['date_time']=date_time"
   ]
  },
  {
   "cell_type": "markdown",
   "id": "3bff2eb6",
   "metadata": {},
   "source": [
    "### Need to convert date_time into date_time\n"
   ]
  },
  {
   "cell_type": "code",
   "execution_count": 505,
   "id": "99de3faa",
   "metadata": {},
   "outputs": [],
   "source": [
    "train['date_time']=pd.to_datetime(train.date_time)"
   ]
  },
  {
   "cell_type": "markdown",
   "id": "804aa804",
   "metadata": {},
   "source": [
    "### Seperate hrs from datetime & add as a new column hrs in existing data"
   ]
  },
  {
   "cell_type": "code",
   "execution_count": 506,
   "id": "238b3778",
   "metadata": {},
   "outputs": [],
   "source": [
    "train['hrs']=train.date_time.dt.hour"
   ]
  },
  {
   "cell_type": "code",
   "execution_count": 507,
   "id": "8a055539",
   "metadata": {},
   "outputs": [
    {
     "data": {
      "text/html": [
       "<div>\n",
       "<style scoped>\n",
       "    .dataframe tbody tr th:only-of-type {\n",
       "        vertical-align: middle;\n",
       "    }\n",
       "\n",
       "    .dataframe tbody tr th {\n",
       "        vertical-align: top;\n",
       "    }\n",
       "\n",
       "    .dataframe thead th {\n",
       "        text-align: right;\n",
       "    }\n",
       "</style>\n",
       "<table border=\"1\" class=\"dataframe\">\n",
       "  <thead>\n",
       "    <tr style=\"text-align: right;\">\n",
       "      <th></th>\n",
       "      <th>temp</th>\n",
       "      <th>humidity</th>\n",
       "      <th>light</th>\n",
       "      <th>co2</th>\n",
       "      <th>humidity_ratio</th>\n",
       "      <th>date_time</th>\n",
       "      <th>hrs</th>\n",
       "    </tr>\n",
       "  </thead>\n",
       "  <tbody>\n",
       "    <tr>\n",
       "      <th>0</th>\n",
       "      <td>0.961637</td>\n",
       "      <td>0.418677</td>\n",
       "      <td>0.585932</td>\n",
       "      <td>0.582724</td>\n",
       "      <td>0.580297</td>\n",
       "      <td>2015-02-02 14:19:00</td>\n",
       "      <td>14</td>\n",
       "    </tr>\n",
       "    <tr>\n",
       "      <th>1</th>\n",
       "      <td>0.965320</td>\n",
       "      <td>0.419468</td>\n",
       "      <td>0.579124</td>\n",
       "      <td>0.602122</td>\n",
       "      <td>0.582657</td>\n",
       "      <td>2015-02-02 14:19:59</td>\n",
       "      <td>14</td>\n",
       "    </tr>\n",
       "    <tr>\n",
       "      <th>2</th>\n",
       "      <td>0.967775</td>\n",
       "      <td>0.416831</td>\n",
       "      <td>0.573383</td>\n",
       "      <td>0.618171</td>\n",
       "      <td>0.580572</td>\n",
       "      <td>2015-02-02 14:21:00</td>\n",
       "      <td>14</td>\n",
       "    </tr>\n",
       "    <tr>\n",
       "      <th>3</th>\n",
       "      <td>0.966240</td>\n",
       "      <td>0.412217</td>\n",
       "      <td>0.494368</td>\n",
       "      <td>0.626976</td>\n",
       "      <td>0.574636</td>\n",
       "      <td>2015-02-02 14:22:00</td>\n",
       "      <td>14</td>\n",
       "    </tr>\n",
       "    <tr>\n",
       "      <th>4</th>\n",
       "      <td>0.972685</td>\n",
       "      <td>0.415513</td>\n",
       "      <td>0.489212</td>\n",
       "      <td>0.634336</td>\n",
       "      <td>0.580972</td>\n",
       "      <td>2015-02-02 14:23:00</td>\n",
       "      <td>14</td>\n",
       "    </tr>\n",
       "  </tbody>\n",
       "</table>\n",
       "</div>"
      ],
      "text/plain": [
       "       temp  humidity     light       co2  humidity_ratio           date_time  \\\n",
       "0  0.961637  0.418677  0.585932  0.582724        0.580297 2015-02-02 14:19:00   \n",
       "1  0.965320  0.419468  0.579124  0.602122        0.582657 2015-02-02 14:19:59   \n",
       "2  0.967775  0.416831  0.573383  0.618171        0.580572 2015-02-02 14:21:00   \n",
       "3  0.966240  0.412217  0.494368  0.626976        0.574636 2015-02-02 14:22:00   \n",
       "4  0.972685  0.415513  0.489212  0.634336        0.580972 2015-02-02 14:23:00   \n",
       "\n",
       "   hrs  \n",
       "0   14  \n",
       "1   14  \n",
       "2   14  \n",
       "3   14  \n",
       "4   14  "
      ]
     },
     "execution_count": 507,
     "metadata": {},
     "output_type": "execute_result"
    }
   ],
   "source": [
    "train.head()"
   ]
  },
  {
   "cell_type": "code",
   "execution_count": 508,
   "id": "28765362",
   "metadata": {},
   "outputs": [
    {
     "data": {
      "text/plain": [
       "array([14, 15, 16, 17, 18, 19, 20, 21, 22, 23,  0,  1,  2,  3,  4,  5,  6,\n",
       "        7,  8,  9, 10, 11, 12, 13], dtype=int64)"
      ]
     },
     "execution_count": 508,
     "metadata": {},
     "output_type": "execute_result"
    }
   ],
   "source": [
    "train['hrs'].unique() #Check hrs is correct or not"
   ]
  },
  {
   "cell_type": "markdown",
   "id": "ac5358ed",
   "metadata": {},
   "source": [
    "#### Remove Date_time from dataframe"
   ]
  },
  {
   "cell_type": "code",
   "execution_count": 509,
   "id": "ca056590",
   "metadata": {},
   "outputs": [],
   "source": [
    "X=train.drop(['date_time'],axis=1) #Store dataset to X\n",
    "Y=y  # target variable"
   ]
  },
  {
   "cell_type": "code",
   "execution_count": null,
   "id": "0b3889e8",
   "metadata": {},
   "outputs": [],
   "source": []
  },
  {
   "cell_type": "markdown",
   "id": "66efa468",
   "metadata": {},
   "source": [
    "# Train Test split"
   ]
  },
  {
   "cell_type": "code",
   "execution_count": 510,
   "id": "39ccd3dd",
   "metadata": {},
   "outputs": [],
   "source": [
    "X_train,X_test,Y_train,Y_test=train_test_split(X,Y,test_size=0.3)"
   ]
  },
  {
   "cell_type": "code",
   "execution_count": 520,
   "id": "2d1c0b7b",
   "metadata": {},
   "outputs": [
    {
     "name": "stdout",
     "output_type": "stream",
     "text": [
      "(10556, 6)\n",
      "(4524, 6)\n",
      "(10556,)\n",
      "(4524,)\n"
     ]
    }
   ],
   "source": [
    "print(X_train.shape)\n",
    "print(X_test.shape)\n",
    "print(Y_train.shape)\n",
    "print(Y_test.shape)"
   ]
  },
  {
   "cell_type": "code",
   "execution_count": null,
   "id": "3e31c8b5",
   "metadata": {},
   "outputs": [],
   "source": []
  },
  {
   "cell_type": "markdown",
   "id": "72f6fba7",
   "metadata": {},
   "source": [
    "# Model Building"
   ]
  },
  {
   "cell_type": "code",
   "execution_count": 521,
   "id": "25ca7be6",
   "metadata": {},
   "outputs": [],
   "source": [
    "from sklearn.model_selection import RandomizedSearchCV\n",
    "from sklearn.metrics import confusion_matrix\n",
    "from sklearn import metrics"
   ]
  },
  {
   "cell_type": "code",
   "execution_count": 522,
   "id": "12a6c497",
   "metadata": {},
   "outputs": [],
   "source": [
    "rf_model=RandomForestClassifier(n_estimators=100) #Import Random Forest classifier"
   ]
  },
  {
   "cell_type": "code",
   "execution_count": 525,
   "id": "a1195a87",
   "metadata": {},
   "outputs": [],
   "source": [
    "model_rf=rf_model.fit(X_train,Y_train) #Fit the model"
   ]
  },
  {
   "cell_type": "code",
   "execution_count": 526,
   "id": "15d4ea84",
   "metadata": {},
   "outputs": [
    {
     "data": {
      "text/plain": [
       "1.0"
      ]
     },
     "execution_count": 526,
     "metadata": {},
     "output_type": "execute_result"
    }
   ],
   "source": [
    "model_rf.score(X_train,Y_train) #Check model score, it seems overfitted"
   ]
  },
  {
   "cell_type": "code",
   "execution_count": 527,
   "id": "e073c43b",
   "metadata": {},
   "outputs": [
    {
     "data": {
      "text/plain": [
       "Index(['temp', 'humidity', 'light', 'co2', 'humidity_ratio', 'hrs'], dtype='object')"
      ]
     },
     "execution_count": 527,
     "metadata": {},
     "output_type": "execute_result"
    }
   ],
   "source": [
    "X_train.keys()"
   ]
  },
  {
   "cell_type": "code",
   "execution_count": 528,
   "id": "f53e59ee",
   "metadata": {},
   "outputs": [
    {
     "data": {
      "text/plain": [
       "array([0.13283962, 0.0253121 , 0.53600537, 0.18821689, 0.03071374,\n",
       "       0.08691228])"
      ]
     },
     "execution_count": 528,
     "metadata": {},
     "output_type": "execute_result"
    }
   ],
   "source": [
    "model_rf.feature_importances_"
   ]
  },
  {
   "cell_type": "markdown",
   "id": "a0eecede",
   "metadata": {},
   "source": [
    "most important features or we can say that 'temp' & 'Co2' are the variables those are mostly affect on target variable"
   ]
  },
  {
   "cell_type": "code",
   "execution_count": 529,
   "id": "cff19c3e",
   "metadata": {},
   "outputs": [],
   "source": [
    "pred=model_rf.predict(X_test) #Prediction on test data"
   ]
  },
  {
   "cell_type": "code",
   "execution_count": 530,
   "id": "3c3909d3",
   "metadata": {},
   "outputs": [
    {
     "data": {
      "text/plain": [
       "<matplotlib.axes._subplots.AxesSubplot at 0x1a988ef0>"
      ]
     },
     "execution_count": 530,
     "metadata": {},
     "output_type": "execute_result"
    },
    {
     "data": {
      "image/png": "[encoded data removed]",
      "text/plain": [
       "<Figure size 576x360 with 2 Axes>"
      ]
     },
     "metadata": {},
     "output_type": "display_data"
    }
   ],
   "source": [
    "cm_rf=confusion_matrix(Y_test,pred)\n",
    "conf_matrix=pd.DataFrame(data=cm_rf,columns=['Predicted:0','Predicted:1'],index=['Actual:0','Actual:1'])\n",
    "plt.figure(figsize = (8,5))\n",
    "sns.heatmap(conf_matrix, annot=True,fmt='d',cmap=\"YlGnBu\")"
   ]
  },
  {
   "cell_type": "markdown",
   "id": "7efb28fd",
   "metadata": {},
   "source": [
    "# Hyper parameter Tunning"
   ]
  },
  {
   "cell_type": "code",
   "execution_count": 531,
   "id": "441212ae",
   "metadata": {},
   "outputs": [],
   "source": [
    "# Number of trees in random forest\n",
    "n_estimators = [int(x) for x in np.linspace(start = 10, stop = 80, num = 10)]\n",
    "# Number of features to consider at every split\n",
    "max_features = ['auto', 'sqrt']\n",
    "# Maximum number of levels in tree\n",
    "max_depth = [2,4]\n",
    "# Minimum number of samples required to split a node\n",
    "min_samples_split = [2, 5]\n",
    "# Minimum number of samples required at each leaf node\n",
    "min_samples_leaf = [1, 2]\n",
    "# Method of selecting samples for training each tree\n",
    "bootstrap = [True, False]"
   ]
  },
  {
   "cell_type": "code",
   "execution_count": 532,
   "id": "65b27fe7",
   "metadata": {},
   "outputs": [
    {
     "name": "stdout",
     "output_type": "stream",
     "text": [
      "{'n_estimators': [10, 17, 25, 33, 41, 48, 56, 64, 72, 80], 'max_features': ['auto', 'sqrt'], 'max_depth': [2, 4], 'min_samples_split': [2, 5], 'min_samples_leaf': [1, 2], 'bootstrap': [True, False]}\n"
     ]
    }
   ],
   "source": [
    "# Create the param grid\n",
    "param_grid = {'n_estimators': n_estimators,\n",
    "               'max_features': max_features,\n",
    "               'max_depth': max_depth,\n",
    "               'min_samples_split': min_samples_split,\n",
    "               'min_samples_leaf': min_samples_leaf,\n",
    "               'bootstrap': bootstrap}\n",
    "print(param_grid)"
   ]
  },
  {
   "cell_type": "code",
   "execution_count": 533,
   "id": "d2243f85",
   "metadata": {},
   "outputs": [],
   "source": [
    "rf_RandomGrid = RandomizedSearchCV(estimator = rf_model, param_distributions = param_grid, cv = 10, verbose=2, n_jobs = 4)"
   ]
  },
  {
   "cell_type": "code",
   "execution_count": 534,
   "id": "6b877b55",
   "metadata": {},
   "outputs": [
    {
     "name": "stdout",
     "output_type": "stream",
     "text": [
      "Fitting 10 folds for each of 10 candidates, totalling 100 fits\n"
     ]
    },
    {
     "name": "stderr",
     "output_type": "stream",
     "text": [
      "[Parallel(n_jobs=4)]: Using backend LokyBackend with 4 concurrent workers.\n",
      "[Parallel(n_jobs=4)]: Done  33 tasks      | elapsed:   11.7s\n",
      "[Parallel(n_jobs=4)]: Done 100 out of 100 | elapsed:   20.0s finished\n"
     ]
    }
   ],
   "source": [
    "model=rf_RandomGrid.fit(X_train, Y_train) #Fit model on X_train & Y_train"
   ]
  },
  {
   "cell_type": "code",
   "execution_count": 535,
   "id": "f10a76d9",
   "metadata": {},
   "outputs": [
    {
     "data": {
      "text/plain": [
       "{'n_estimators': 25,\n",
       " 'min_samples_split': 5,\n",
       " 'min_samples_leaf': 2,\n",
       " 'max_features': 'sqrt',\n",
       " 'max_depth': 4,\n",
       " 'bootstrap': True}"
      ]
     },
     "execution_count": 535,
     "metadata": {},
     "output_type": "execute_result"
    }
   ],
   "source": [
    "rf_RandomGrid.best_params_ # Find best paramters"
   ]
  },
  {
   "cell_type": "code",
   "execution_count": 536,
   "id": "9ac25b7e",
   "metadata": {},
   "outputs": [],
   "source": [
    "y_pred=model.predict(X_test) #Prediction on X_test"
   ]
  },
  {
   "cell_type": "code",
   "execution_count": null,
   "id": "65ac39de",
   "metadata": {},
   "outputs": [],
   "source": []
  },
  {
   "cell_type": "code",
   "execution_count": 537,
   "id": "d01bdf5b",
   "metadata": {},
   "outputs": [
    {
     "name": "stdout",
     "output_type": "stream",
     "text": [
      "Accuracy: 0.9885057471264368\n"
     ]
    }
   ],
   "source": [
    "print(\"Accuracy:\",metrics.accuracy_score(Y_test, y_pred))"
   ]
  },
  {
   "cell_type": "markdown",
   "id": "df4034e6",
   "metadata": {},
   "source": [
    "So we achieved good accuracy on model prediction too"
   ]
  },
  {
   "cell_type": "code",
   "execution_count": 538,
   "id": "4ed9e8fe",
   "metadata": {},
   "outputs": [],
   "source": [
    "matrix=confusion_matrix(Y_test,y_pred)"
   ]
  },
  {
   "cell_type": "code",
   "execution_count": 539,
   "id": "2fd36a77",
   "metadata": {},
   "outputs": [
    {
     "data": {
      "text/plain": [
       "<matplotlib.axes._subplots.AxesSubplot at 0x18f56e80>"
      ]
     },
     "execution_count": 539,
     "metadata": {},
     "output_type": "execute_result"
    },
    {
     "data": {
      "image/png": "[encoded data removed]",
      "text/plain": [
       "<Figure size 576x360 with 2 Axes>"
      ]
     },
     "metadata": {},
     "output_type": "display_data"
    }
   ],
   "source": [
    "conf_matrix=pd.DataFrame(data=matrix,columns=['Predicted:0','Predicted:1'],index=['Actual:0','Actual:1'])\n",
    "plt.figure(figsize = (8,5))\n",
    "sns.heatmap(conf_matrix, annot=True,fmt='d',cmap=\"YlGnBu\")"
   ]
  },
  {
   "cell_type": "markdown",
   "id": "3301f08a",
   "metadata": {},
   "source": [
    "### Create a dataframe with predicted data"
   ]
  },
  {
   "cell_type": "code",
   "execution_count": 540,
   "id": "42e13664",
   "metadata": {},
   "outputs": [],
   "source": [
    "pred_df=x_test"
   ]
  },
  {
   "cell_type": "code",
   "execution_count": 541,
   "id": "56bd2222",
   "metadata": {},
   "outputs": [],
   "source": [
    "pred_df['suitable']=y_pred"
   ]
  },
  {
   "cell_type": "code",
   "execution_count": 542,
   "id": "2b9a6ecb",
   "metadata": {},
   "outputs": [
    {
     "data": {
      "text/html": [
       "<div>\n",
       "<style scoped>\n",
       "    .dataframe tbody tr th:only-of-type {\n",
       "        vertical-align: middle;\n",
       "    }\n",
       "\n",
       "    .dataframe tbody tr th {\n",
       "        vertical-align: top;\n",
       "    }\n",
       "\n",
       "    .dataframe thead th {\n",
       "        text-align: right;\n",
       "    }\n",
       "</style>\n",
       "<table border=\"1\" class=\"dataframe\">\n",
       "  <thead>\n",
       "    <tr style=\"text-align: right;\">\n",
       "      <th></th>\n",
       "      <th>temp</th>\n",
       "      <th>humidity</th>\n",
       "      <th>light</th>\n",
       "      <th>co2</th>\n",
       "      <th>humidity_ratio</th>\n",
       "      <th>hrs</th>\n",
       "      <th>suitable</th>\n",
       "    </tr>\n",
       "  </thead>\n",
       "  <tbody>\n",
       "    <tr>\n",
       "      <th>9544</th>\n",
       "      <td>0.511509</td>\n",
       "      <td>0.776862</td>\n",
       "      <td>0.465081</td>\n",
       "      <td>1.000000</td>\n",
       "      <td>0.775653</td>\n",
       "      <td>12</td>\n",
       "      <td>1</td>\n",
       "    </tr>\n",
       "    <tr>\n",
       "      <th>10377</th>\n",
       "      <td>0.254731</td>\n",
       "      <td>0.707537</td>\n",
       "      <td>0.000000</td>\n",
       "      <td>0.080104</td>\n",
       "      <td>0.597061</td>\n",
       "      <td>2</td>\n",
       "      <td>0</td>\n",
       "    </tr>\n",
       "    <tr>\n",
       "      <th>4221</th>\n",
       "      <td>0.429668</td>\n",
       "      <td>0.116238</td>\n",
       "      <td>0.000000</td>\n",
       "      <td>0.154579</td>\n",
       "      <td>0.088668</td>\n",
       "      <td>19</td>\n",
       "      <td>1</td>\n",
       "    </tr>\n",
       "    <tr>\n",
       "      <th>10935</th>\n",
       "      <td>0.591304</td>\n",
       "      <td>0.598550</td>\n",
       "      <td>0.433542</td>\n",
       "      <td>0.656419</td>\n",
       "      <td>0.627859</td>\n",
       "      <td>16</td>\n",
       "      <td>0</td>\n",
       "    </tr>\n",
       "    <tr>\n",
       "      <th>5693</th>\n",
       "      <td>0.284399</td>\n",
       "      <td>0.105691</td>\n",
       "      <td>0.000000</td>\n",
       "      <td>0.085300</td>\n",
       "      <td>0.043053</td>\n",
       "      <td>20</td>\n",
       "      <td>0</td>\n",
       "    </tr>\n",
       "  </tbody>\n",
       "</table>\n",
       "</div>"
      ],
      "text/plain": [
       "           temp  humidity     light       co2  humidity_ratio  hrs  suitable\n",
       "9544   0.511509  0.776862  0.465081  1.000000        0.775653   12         1\n",
       "10377  0.254731  0.707537  0.000000  0.080104        0.597061    2         0\n",
       "4221   0.429668  0.116238  0.000000  0.154579        0.088668   19         1\n",
       "10935  0.591304  0.598550  0.433542  0.656419        0.627859   16         0\n",
       "5693   0.284399  0.105691  0.000000  0.085300        0.043053   20         0"
      ]
     },
     "execution_count": 542,
     "metadata": {},
     "output_type": "execute_result"
    }
   ],
   "source": [
    "pred_df.tail()"
   ]
  },
  {
   "cell_type": "markdown",
   "id": "b42ff0ad",
   "metadata": {},
   "source": [
    "So, As per the first record above if temp is low, humidity is near by 1 co2 is low and if its afternoon 2 hrs then it's suitable"
   ]
  },
  {
   "cell_type": "markdown",
   "id": "6c7e54a3",
   "metadata": {},
   "source": [
    "# Save model for future use"
   ]
  },
  {
   "cell_type": "code",
   "execution_count": 543,
   "id": "8ecb4038",
   "metadata": {},
   "outputs": [],
   "source": [
    "import pickle as pkl"
   ]
  },
  {
   "cell_type": "code",
   "execution_count": 544,
   "id": "fcc974e8",
   "metadata": {},
   "outputs": [],
   "source": [
    "pkl.dump(model,open(r\"E:\\Siemens_test\\model.pkl\",'wb'))"
   ]
  },
  {
   "cell_type": "markdown",
   "id": "b18f1ebd",
   "metadata": {},
   "source": [
    "# Load Test data for predict & submission"
   ]
  },
  {
   "cell_type": "code",
   "execution_count": 545,
   "id": "d0db7b46",
   "metadata": {},
   "outputs": [],
   "source": [
    "df_test=pd.read_csv(r\"E:\\Siemens_test\\dataset\\test.csv\",sep=',')"
   ]
  },
  {
   "cell_type": "code",
   "execution_count": 546,
   "id": "77731f87",
   "metadata": {},
   "outputs": [
    {
     "data": {
      "text/html": [
       "<div>\n",
       "<style scoped>\n",
       "    .dataframe tbody tr th:only-of-type {\n",
       "        vertical-align: middle;\n",
       "    }\n",
       "\n",
       "    .dataframe tbody tr th {\n",
       "        vertical-align: top;\n",
       "    }\n",
       "\n",
       "    .dataframe thead th {\n",
       "        text-align: right;\n",
       "    }\n",
       "</style>\n",
       "<table border=\"1\" class=\"dataframe\">\n",
       "  <thead>\n",
       "    <tr style=\"text-align: right;\">\n",
       "      <th></th>\n",
       "      <th>date_time</th>\n",
       "      <th>temp</th>\n",
       "      <th>humidity</th>\n",
       "      <th>light</th>\n",
       "      <th>co2</th>\n",
       "      <th>humidity_ratio</th>\n",
       "    </tr>\n",
       "  </thead>\n",
       "  <tbody>\n",
       "    <tr>\n",
       "      <th>0</th>\n",
       "      <td>2015-02-14 13:59:59</td>\n",
       "      <td>20.390000</td>\n",
       "      <td>35.433333</td>\n",
       "      <td>31.000000</td>\n",
       "      <td>502.333333</td>\n",
       "      <td>0.005255</td>\n",
       "    </tr>\n",
       "    <tr>\n",
       "      <th>1</th>\n",
       "      <td>2015-02-14 14:00:59</td>\n",
       "      <td>20.365000</td>\n",
       "      <td>35.425000</td>\n",
       "      <td>31.000000</td>\n",
       "      <td>503.250000</td>\n",
       "      <td>0.005246</td>\n",
       "    </tr>\n",
       "    <tr>\n",
       "      <th>2</th>\n",
       "      <td>2015-02-14 14:02:00</td>\n",
       "      <td>20.390000</td>\n",
       "      <td>35.500000</td>\n",
       "      <td>31.000000</td>\n",
       "      <td>508.500000</td>\n",
       "      <td>0.005265</td>\n",
       "    </tr>\n",
       "    <tr>\n",
       "      <th>3</th>\n",
       "      <td>2015-02-14 14:03:00</td>\n",
       "      <td>20.323333</td>\n",
       "      <td>35.500000</td>\n",
       "      <td>31.000000</td>\n",
       "      <td>510.666667</td>\n",
       "      <td>0.005243</td>\n",
       "    </tr>\n",
       "    <tr>\n",
       "      <th>4</th>\n",
       "      <td>2015-02-14 14:04:00</td>\n",
       "      <td>20.290000</td>\n",
       "      <td>35.590000</td>\n",
       "      <td>28.666667</td>\n",
       "      <td>509.000000</td>\n",
       "      <td>0.005246</td>\n",
       "    </tr>\n",
       "  </tbody>\n",
       "</table>\n",
       "</div>"
      ],
      "text/plain": [
       "             date_time       temp   humidity      light         co2  \\\n",
       "0  2015-02-14 13:59:59  20.390000  35.433333  31.000000  502.333333   \n",
       "1  2015-02-14 14:00:59  20.365000  35.425000  31.000000  503.250000   \n",
       "2  2015-02-14 14:02:00  20.390000  35.500000  31.000000  508.500000   \n",
       "3  2015-02-14 14:03:00  20.323333  35.500000  31.000000  510.666667   \n",
       "4  2015-02-14 14:04:00  20.290000  35.590000  28.666667  509.000000   \n",
       "\n",
       "   humidity_ratio  \n",
       "0        0.005255  \n",
       "1        0.005246  \n",
       "2        0.005265  \n",
       "3        0.005243  \n",
       "4        0.005246  "
      ]
     },
     "execution_count": 546,
     "metadata": {},
     "output_type": "execute_result"
    }
   ],
   "source": [
    "df_test.head()"
   ]
  },
  {
   "cell_type": "code",
   "execution_count": 547,
   "id": "dd8b8053",
   "metadata": {},
   "outputs": [
    {
     "data": {
      "text/plain": [
       "date_time         0\n",
       "temp              0\n",
       "humidity          0\n",
       "light             0\n",
       "co2               0\n",
       "humidity_ratio    0\n",
       "dtype: int64"
      ]
     },
     "execution_count": 547,
     "metadata": {},
     "output_type": "execute_result"
    }
   ],
   "source": [
    "df_test.isna().sum() #No missing values in test data"
   ]
  },
  {
   "cell_type": "markdown",
   "id": "bcd8a250",
   "metadata": {},
   "source": [
    "# Outliers treatment for test data"
   ]
  },
  {
   "cell_type": "code",
   "execution_count": 548,
   "id": "dd41747f",
   "metadata": {},
   "outputs": [
    {
     "data": {
      "text/plain": [
       "<matplotlib.axes._subplots.AxesSubplot at 0x1a6d6550>"
      ]
     },
     "execution_count": 548,
     "metadata": {},
     "output_type": "execute_result"
    },
    {
     "data": {
      "image/png": "[encoded data removed]",
      "text/plain": [
       "<Figure size 432x288 with 1 Axes>"
      ]
     },
     "metadata": {},
     "output_type": "display_data"
    }
   ],
   "source": [
    "df_test.boxplot()"
   ]
  },
  {
   "cell_type": "code",
   "execution_count": 549,
   "id": "d10cdee3",
   "metadata": {},
   "outputs": [],
   "source": [
    "test_features=df_test[['temp','humidity','light','co2','humidity_ratio']]"
   ]
  },
  {
   "cell_type": "code",
   "execution_count": 550,
   "id": "37597a86",
   "metadata": {},
   "outputs": [],
   "source": [
    "outliers_cap(df_test,features,1.5)"
   ]
  },
  {
   "cell_type": "code",
   "execution_count": 551,
   "id": "c12a6eb2",
   "metadata": {},
   "outputs": [],
   "source": [
    "#Saperate numeric columns from original df_test\n",
    "test_num_data=df_test.select_dtypes(include=np.number)\n",
    "test_date_time=df_test['date_time']"
   ]
  },
  {
   "cell_type": "code",
   "execution_count": 552,
   "id": "b7463531",
   "metadata": {},
   "outputs": [],
   "source": [
    "scaler=MinMaxScaler()\n",
    "scaler.fit(test_num_data)\n",
    "#Scaled numeric features & rename scaled columns \n",
    "Scaled_df_test=scaler.transform(test_num_data)\n",
    "Scaled_df_test=pd.DataFrame(Scaled_df_test,columns=['S_temp','S_humidity','S_light','S_co2','S_humidity_ratio'])\n"
   ]
  },
  {
   "cell_type": "code",
   "execution_count": 553,
   "id": "0ae034b4",
   "metadata": {},
   "outputs": [],
   "source": [
    "test=pd.concat([df_test,Scaled_df_test],axis=1) #Concat scaled columns with exsting dataset"
   ]
  },
  {
   "cell_type": "code",
   "execution_count": 554,
   "id": "8438130b",
   "metadata": {},
   "outputs": [
    {
     "data": {
      "text/html": [
       "<div>\n",
       "<style scoped>\n",
       "    .dataframe tbody tr th:only-of-type {\n",
       "        vertical-align: middle;\n",
       "    }\n",
       "\n",
       "    .dataframe tbody tr th {\n",
       "        vertical-align: top;\n",
       "    }\n",
       "\n",
       "    .dataframe thead th {\n",
       "        text-align: right;\n",
       "    }\n",
       "</style>\n",
       "<table border=\"1\" class=\"dataframe\">\n",
       "  <thead>\n",
       "    <tr style=\"text-align: right;\">\n",
       "      <th></th>\n",
       "      <th>date_time</th>\n",
       "      <th>temp</th>\n",
       "      <th>humidity</th>\n",
       "      <th>light</th>\n",
       "      <th>co2</th>\n",
       "      <th>humidity_ratio</th>\n",
       "      <th>S_temp</th>\n",
       "      <th>S_humidity</th>\n",
       "      <th>S_light</th>\n",
       "      <th>S_co2</th>\n",
       "      <th>S_humidity_ratio</th>\n",
       "    </tr>\n",
       "  </thead>\n",
       "  <tbody>\n",
       "    <tr>\n",
       "      <th>0</th>\n",
       "      <td>2015-02-14 13:59:59</td>\n",
       "      <td>20.390</td>\n",
       "      <td>35.433333</td>\n",
       "      <td>31.0</td>\n",
       "      <td>502.333333</td>\n",
       "      <td>0.005255</td>\n",
       "      <td>0.177253</td>\n",
       "      <td>0.928611</td>\n",
       "      <td>0.121271</td>\n",
       "      <td>0.002158</td>\n",
       "      <td>0.764015</td>\n",
       "    </tr>\n",
       "    <tr>\n",
       "      <th>1</th>\n",
       "      <td>2015-02-14 14:00:59</td>\n",
       "      <td>20.365</td>\n",
       "      <td>35.425000</td>\n",
       "      <td>31.0</td>\n",
       "      <td>503.250000</td>\n",
       "      <td>0.005246</td>\n",
       "      <td>0.169867</td>\n",
       "      <td>0.927917</td>\n",
       "      <td>0.121271</td>\n",
       "      <td>0.003006</td>\n",
       "      <td>0.759685</td>\n",
       "    </tr>\n",
       "    <tr>\n",
       "      <th>2</th>\n",
       "      <td>2015-02-14 14:02:00</td>\n",
       "      <td>20.390</td>\n",
       "      <td>35.500000</td>\n",
       "      <td>31.0</td>\n",
       "      <td>508.500000</td>\n",
       "      <td>0.005265</td>\n",
       "      <td>0.177253</td>\n",
       "      <td>0.934167</td>\n",
       "      <td>0.121271</td>\n",
       "      <td>0.007862</td>\n",
       "      <td>0.768598</td>\n",
       "    </tr>\n",
       "  </tbody>\n",
       "</table>\n",
       "</div>"
      ],
      "text/plain": [
       "             date_time    temp   humidity  light         co2  humidity_ratio  \\\n",
       "0  2015-02-14 13:59:59  20.390  35.433333   31.0  502.333333        0.005255   \n",
       "1  2015-02-14 14:00:59  20.365  35.425000   31.0  503.250000        0.005246   \n",
       "2  2015-02-14 14:02:00  20.390  35.500000   31.0  508.500000        0.005265   \n",
       "\n",
       "     S_temp  S_humidity   S_light     S_co2  S_humidity_ratio  \n",
       "0  0.177253    0.928611  0.121271  0.002158          0.764015  \n",
       "1  0.169867    0.927917  0.121271  0.003006          0.759685  \n",
       "2  0.177253    0.934167  0.121271  0.007862          0.768598  "
      ]
     },
     "execution_count": 554,
     "metadata": {},
     "output_type": "execute_result"
    }
   ],
   "source": [
    "test.head(3)"
   ]
  },
  {
   "cell_type": "code",
   "execution_count": 555,
   "id": "d9d25599",
   "metadata": {},
   "outputs": [],
   "source": [
    "#Remove old non scaled features\n",
    "test=test.drop(['temp','humidity','light','co2','humidity_ratio'],axis=1)"
   ]
  },
  {
   "cell_type": "code",
   "execution_count": 556,
   "id": "a539c9f4",
   "metadata": {},
   "outputs": [
    {
     "data": {
      "text/html": [
       "<div>\n",
       "<style scoped>\n",
       "    .dataframe tbody tr th:only-of-type {\n",
       "        vertical-align: middle;\n",
       "    }\n",
       "\n",
       "    .dataframe tbody tr th {\n",
       "        vertical-align: top;\n",
       "    }\n",
       "\n",
       "    .dataframe thead th {\n",
       "        text-align: right;\n",
       "    }\n",
       "</style>\n",
       "<table border=\"1\" class=\"dataframe\">\n",
       "  <thead>\n",
       "    <tr style=\"text-align: right;\">\n",
       "      <th></th>\n",
       "      <th>temp</th>\n",
       "      <th>humidity</th>\n",
       "      <th>light</th>\n",
       "      <th>co2</th>\n",
       "      <th>humidity_ratio</th>\n",
       "    </tr>\n",
       "  </thead>\n",
       "  <tbody>\n",
       "    <tr>\n",
       "      <th>0</th>\n",
       "      <td>0.177253</td>\n",
       "      <td>0.928611</td>\n",
       "      <td>0.121271</td>\n",
       "      <td>0.002158</td>\n",
       "      <td>0.764015</td>\n",
       "    </tr>\n",
       "    <tr>\n",
       "      <th>1</th>\n",
       "      <td>0.169867</td>\n",
       "      <td>0.927917</td>\n",
       "      <td>0.121271</td>\n",
       "      <td>0.003006</td>\n",
       "      <td>0.759685</td>\n",
       "    </tr>\n",
       "    <tr>\n",
       "      <th>2</th>\n",
       "      <td>0.177253</td>\n",
       "      <td>0.934167</td>\n",
       "      <td>0.121271</td>\n",
       "      <td>0.007862</td>\n",
       "      <td>0.768598</td>\n",
       "    </tr>\n",
       "    <tr>\n",
       "      <th>3</th>\n",
       "      <td>0.157558</td>\n",
       "      <td>0.934167</td>\n",
       "      <td>0.121271</td>\n",
       "      <td>0.009866</td>\n",
       "      <td>0.758568</td>\n",
       "    </tr>\n",
       "    <tr>\n",
       "      <th>4</th>\n",
       "      <td>0.147710</td>\n",
       "      <td>0.941667</td>\n",
       "      <td>0.112143</td>\n",
       "      <td>0.008324</td>\n",
       "      <td>0.759716</td>\n",
       "    </tr>\n",
       "  </tbody>\n",
       "</table>\n",
       "</div>"
      ],
      "text/plain": [
       "       temp  humidity     light       co2  humidity_ratio\n",
       "0  0.177253  0.928611  0.121271  0.002158        0.764015\n",
       "1  0.169867  0.927917  0.121271  0.003006        0.759685\n",
       "2  0.177253  0.934167  0.121271  0.007862        0.768598\n",
       "3  0.157558  0.934167  0.121271  0.009866        0.758568\n",
       "4  0.147710  0.941667  0.112143  0.008324        0.759716"
      ]
     },
     "execution_count": 556,
     "metadata": {},
     "output_type": "execute_result"
    }
   ],
   "source": [
    "#### Remove prefix 'S_' & rename columns with original name\n",
    "test.columns=test.columns.str.replace('S_','')\n",
    "\n",
    "test=test[['temp','humidity','light','co2','humidity_ratio']];test.head()"
   ]
  },
  {
   "cell_type": "code",
   "execution_count": 557,
   "id": "bf203c04",
   "metadata": {},
   "outputs": [],
   "source": [
    "#add 'date_time' as it is in test data\n",
    "test['date_time']=test_date_time"
   ]
  },
  {
   "cell_type": "code",
   "execution_count": 558,
   "id": "c8389027",
   "metadata": {},
   "outputs": [],
   "source": [
    "#Convert datetime into datetime\n",
    "test['date_time']=pd.to_datetime(test.date_time)\n"
   ]
  },
  {
   "cell_type": "code",
   "execution_count": 559,
   "id": "c76f96f5",
   "metadata": {},
   "outputs": [],
   "source": [
    "# Seperate hrs from datetime & add as a new column hrs in existing data\n",
    "test['hrs']=test.date_time.dt.hour"
   ]
  },
  {
   "cell_type": "code",
   "execution_count": 560,
   "id": "96691162",
   "metadata": {},
   "outputs": [],
   "source": [
    "#Remove Date_time from dataframe\n",
    "new_test=test.drop(['date_time'],axis=1) #Store dataset to X_tset\n"
   ]
  },
  {
   "cell_type": "code",
   "execution_count": 561,
   "id": "fa17741a",
   "metadata": {},
   "outputs": [
    {
     "data": {
      "text/html": [
       "<div>\n",
       "<style scoped>\n",
       "    .dataframe tbody tr th:only-of-type {\n",
       "        vertical-align: middle;\n",
       "    }\n",
       "\n",
       "    .dataframe tbody tr th {\n",
       "        vertical-align: top;\n",
       "    }\n",
       "\n",
       "    .dataframe thead th {\n",
       "        text-align: right;\n",
       "    }\n",
       "</style>\n",
       "<table border=\"1\" class=\"dataframe\">\n",
       "  <thead>\n",
       "    <tr style=\"text-align: right;\">\n",
       "      <th></th>\n",
       "      <th>temp</th>\n",
       "      <th>humidity</th>\n",
       "      <th>light</th>\n",
       "      <th>co2</th>\n",
       "      <th>humidity_ratio</th>\n",
       "      <th>hrs</th>\n",
       "    </tr>\n",
       "  </thead>\n",
       "  <tbody>\n",
       "    <tr>\n",
       "      <th>0</th>\n",
       "      <td>0.177253</td>\n",
       "      <td>0.928611</td>\n",
       "      <td>0.121271</td>\n",
       "      <td>0.002158</td>\n",
       "      <td>0.764015</td>\n",
       "      <td>13</td>\n",
       "    </tr>\n",
       "    <tr>\n",
       "      <th>1</th>\n",
       "      <td>0.169867</td>\n",
       "      <td>0.927917</td>\n",
       "      <td>0.121271</td>\n",
       "      <td>0.003006</td>\n",
       "      <td>0.759685</td>\n",
       "      <td>14</td>\n",
       "    </tr>\n",
       "    <tr>\n",
       "      <th>2</th>\n",
       "      <td>0.177253</td>\n",
       "      <td>0.934167</td>\n",
       "      <td>0.121271</td>\n",
       "      <td>0.007862</td>\n",
       "      <td>0.768598</td>\n",
       "      <td>14</td>\n",
       "    </tr>\n",
       "    <tr>\n",
       "      <th>3</th>\n",
       "      <td>0.157558</td>\n",
       "      <td>0.934167</td>\n",
       "      <td>0.121271</td>\n",
       "      <td>0.009866</td>\n",
       "      <td>0.758568</td>\n",
       "      <td>14</td>\n",
       "    </tr>\n",
       "    <tr>\n",
       "      <th>4</th>\n",
       "      <td>0.147710</td>\n",
       "      <td>0.941667</td>\n",
       "      <td>0.112143</td>\n",
       "      <td>0.008324</td>\n",
       "      <td>0.759716</td>\n",
       "      <td>14</td>\n",
       "    </tr>\n",
       "  </tbody>\n",
       "</table>\n",
       "</div>"
      ],
      "text/plain": [
       "       temp  humidity     light       co2  humidity_ratio  hrs\n",
       "0  0.177253  0.928611  0.121271  0.002158        0.764015   13\n",
       "1  0.169867  0.927917  0.121271  0.003006        0.759685   14\n",
       "2  0.177253  0.934167  0.121271  0.007862        0.768598   14\n",
       "3  0.157558  0.934167  0.121271  0.009866        0.758568   14\n",
       "4  0.147710  0.941667  0.112143  0.008324        0.759716   14"
      ]
     },
     "execution_count": 561,
     "metadata": {},
     "output_type": "execute_result"
    }
   ],
   "source": [
    "new_test.head()"
   ]
  },
  {
   "cell_type": "code",
   "execution_count": 562,
   "id": "0209301e",
   "metadata": {},
   "outputs": [],
   "source": [
    "new_test.reset_index(drop=True, inplace=True)"
   ]
  },
  {
   "cell_type": "code",
   "execution_count": 564,
   "id": "58663038",
   "metadata": {},
   "outputs": [],
   "source": [
    "pred_test=model_rf.predict(new_test)"
   ]
  },
  {
   "cell_type": "code",
   "execution_count": 567,
   "id": "2bcf20ec",
   "metadata": {},
   "outputs": [],
   "source": [
    "my_submission = pd.DataFrame({'hrs': new_test['hrs'], 'suitable': pred_test})\n",
    "# you could use any filename. We choose submission here\n",
    "my_submission.to_csv(\"E:\\Siemens_test\\dataset\\mytest.csv\", index=False)"
   ]
  },
  {
   "cell_type": "code",
   "execution_count": null,
   "id": "e723ffc9",
   "metadata": {},
   "outputs": [],
   "source": []
  }
 ],
 "metadata": {
  "kernelspec": {
   "display_name": "Python 3",
   "language": "python",
   "name": "python3"
  },
  "language_info": {
   "codemirror_mode": {
    "name": "ipython",
    "version": 3
   },
   "file_extension": ".py",
   "mimetype": "text/x-python",
   "name": "python",
   "nbconvert_exporter": "python",
   "pygments_lexer": "ipython3",
   "version": "3.6.5"
  }
 },
 "nbformat": 4,
 "nbformat_minor": 5
}
